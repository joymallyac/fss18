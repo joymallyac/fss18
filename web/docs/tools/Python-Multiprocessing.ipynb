{
 "cells": [
  {
   "cell_type": "markdown",
   "metadata": {},
   "source": [
    "# Introduction to Python Multiprocessing\n",
    "## Running Your Experiments on parallel\n",
    "\n",
    "+ Now we can build a document classifier with scikit-learn and nltk.\n",
    "+ Next, let's look at ways you can parallelize this."
   ]
  },
  {
   "cell_type": "markdown",
   "metadata": {},
   "source": [
    "# A \"Hello, World!\" in multiprocessing\n",
    "\n",
    "### 1. Let's find out the number of cores in our system"
   ]
  },
  {
   "cell_type": "code",
   "execution_count": null,
   "metadata": {},
   "outputs": [],
   "source": [
    "import multiprocessing as mp\n",
    "\n",
    "num_cpu = mp.cpu_count()\n",
    "\n",
    "print(\"Number of cpu cores: {}\".format(num_cpu))"
   ]
  },
  {
   "cell_type": "markdown",
   "metadata": {},
   "source": [
    "## 2. Let's run a process on each of those four cores\n",
    "\n"
   ]
  },
  {
   "cell_type": "code",
   "execution_count": null,
   "metadata": {},
   "outputs": [],
   "source": [
    "from time import sleep\n",
    "import multiprocessing as mp\n",
    "import random\n",
    "def func(arg):\n",
    "    sleep(5)\n",
    "    print(\"Hello, world! {}\".format(arg))\n",
    "    \n",
    "\n",
    "if __name__ == \"__main__\":\n",
    "    num_cpu = mp.cpu_count()\n",
    "    args = list(range(num_cpu))\n",
    "    print(args)\n",
    "    with mp.Pool(num_cpu) as p:\n",
    "        res = p.map(func, args)\n",
    "    "
   ]
  },
  {
   "cell_type": "markdown",
   "metadata": {},
   "source": [
    "## 3. Chunks of processes\n",
    "\n",
    "+ What is chunking?\n",
    "+ Say you have 4 cores, and 16 processes. \n",
    "+ You can ask python to run them in batches of say 4.\n",
    "\n",
    "Let's see how we do that."
   ]
  },
  {
   "cell_type": "code",
   "execution_count": null,
   "metadata": {},
   "outputs": [],
   "source": [
    "from time import sleep\n",
    "import multiprocessing as mp\n",
    "import random\n",
    "def par_func(arg):\n",
    "    sleep(5)\n",
    "    print(\"Hello, world! {}\".format(arg))\n",
    "    \n",
    "\n",
    "if __name__ == \"__main__\":\n",
    "    num_cpu = mp.cpu_count()\n",
    "    args = list(range(4 * num_cpu)) # 16 processes\n",
    "    print(args, \"\\n\")\n",
    "    with mp.Pool(num_cpu) as p:\n",
    "        res = p.map_async(func, args, chunksize=4).get()\n",
    "                                  # ----------- #\n",
    "                                  # This is your batch size #"
   ]
  },
  {
   "cell_type": "markdown",
   "metadata": {},
   "source": [
    "## 4. Run Processes Asynchronously\n",
    "\n",
    "+ Map waits for processes to complete.\n",
    "+ This can lead to deadlocks, concurrency issues, etc.\n",
    "+ You can do a lazy execution with asynchronous processes"
   ]
  },
  {
   "cell_type": "code",
   "execution_count": null,
   "metadata": {},
   "outputs": [],
   "source": [
    "from time import sleep\n",
    "import multiprocessing as mp\n",
    "import random\n",
    "\n",
    "def func(arg):\n",
    "    sleep(5)\n",
    "    print(\"Hello, world! {}\".format(arg))\n",
    "    \n",
    "\n",
    "if __name__ == \"__main__\":\n",
    "    num_cpu = mp.cpu_count()\n",
    "    args = list(range(4 * num_cpu)) \n",
    "    print(args, \"\\n\")\n",
    "    \n",
    "    with mp.Pool(num_cpu) as p:\n",
    "        res = p.map_async(func, args, chunksize=4)\n",
    "              # --------- #\n",
    "              # see this? #\n",
    "        res.get()"
   ]
  },
  {
   "cell_type": "markdown",
   "metadata": {},
   "source": [
    "## 5. Partial functions!\n",
    "\n",
    "+ Say you have more than one arguments. How to you solve that?\n",
    "\n",
    "We can use partial functions."
   ]
  },
  {
   "cell_type": "code",
   "execution_count": null,
   "metadata": {},
   "outputs": [],
   "source": [
    "from functools import partial\n",
    "\n",
    "def add(a, b):\n",
    "    return a + b\n",
    "\n",
    "add_2 = partial(add, b=2)\n",
    "\n",
    "add_2(3)"
   ]
  },
  {
   "cell_type": "markdown",
   "metadata": {},
   "source": [
    "### Now, let's run this parallely"
   ]
  },
  {
   "cell_type": "code",
   "execution_count": null,
   "metadata": {},
   "outputs": [],
   "source": [
    "from functools import partial\n",
    "from time import sleep\n",
    "\n",
    "def add(a, b):\n",
    "    sleep(2)\n",
    "    return print(\"{} + {} = {}\".format(a,b,a+b))\n",
    "\n",
    "if __name__ == \"__main__\":\n",
    "    num_cpu = mp.cpu_count()\n",
    "    args = list(range(4 * num_cpu)) \n",
    "    print(args, \"\\n\")\n",
    "\n",
    "    add_5 = partial(add, b=5)\n",
    "    \n",
    "    with mp.Pool(num_cpu) as p:\n",
    "        res = p.map_async(add_5, args, chunksize=4)\n",
    "                         #-----#\n",
    "                #The partial function#\n",
    "        res.get()"
   ]
  },
  {
   "cell_type": "markdown",
   "metadata": {},
   "source": [
    "# Running sklearn parallely\n",
    "\n",
    "This will be fun, let's run sklearn on the MNIST data \n",
    "+ With a 10 fold cross validation\n",
    "+ On 4 cores. "
   ]
  },
  {
   "cell_type": "code",
   "execution_count": null,
   "metadata": {},
   "outputs": [],
   "source": [
    "import numpy as np\n",
    "from functools import partial\n",
    "from sklearn import datasets\n",
    "from sklearn.svm import LinearSVC\n",
    "import matplotlib.pyplot as plt\n",
    "from sklearn.metrics import confusion_matrix\n",
    "from sklearn.base import clone  \n",
    "from sklearn.linear_model.stochastic_gradient import SGDClassifier\n",
    "from sklearn.datasets import fetch_mldata\n",
    "\n",
    "\n",
    "# Define a function to run a cross val and return F1 score\n",
    "# --------------------------------------------------------\n",
    "def cross_val(train_index, test_index, clf):\n",
    "    \n",
    "    cloned_clf = clone(clf)\n",
    "\n",
    "    # Training data\n",
    "    # -------------\n",
    "    X_train_folds = X[train_index]\n",
    "    y_train_folds = y[train_index]\n",
    "    \n",
    "    # Testing data\n",
    "    # ------------\n",
    "    X_test_folds = X[test_index]\n",
    "    y_test_folds = y[test_index]\n",
    "    \n",
    "    # Fit a classifier on the training data\n",
    "    # -------------------------------------\n",
    "    cloned_clf.fit(X_train_folds, y_train_folds)\n",
    "    \n",
    "    # Make predictions on a test set\n",
    "    # ------------------------------\n",
    "    y_hat = cloned_clf.predict(X_test_folds)\n",
    "    \n",
    "    # Compute some metrics here. Like Precision, Recall, False Alarm, or what have you.\n",
    "    # ---------------------------------------------------------------------------------\n",
    "    cmat = confusion_matrix(y_test_folds, y_hat)\n",
    "    \n",
    "    # Precision\n",
    "    # ---------\n",
    "    prec = 0 if not cmat[1,1] else cmat[1,1]/(cmat[1,1]+cmat[0,1])\n",
    "    \n",
    "    # Recall\n",
    "    # ------\n",
    "    recall = 0 if not cmat[1,1] else cmat[1,1]/(cmat[1,1]+cmat[1,0])\n",
    "    \n",
    "    return recall\n",
    "\n",
    "if __name__ == \"__main__\":\n",
    "\n",
    "    # Get CPU counts\n",
    "    # --------------\n",
    "    num_cpu = mp.cpu_count()\n",
    "\n",
    "    # Load Data\n",
    "    # ---------\n",
    "    mnist = fetch_mldata('MNIST original')\n",
    "\n",
    "    # Training\n",
    "    # --------\n",
    "    # Lets use 2 features\n",
    "\n",
    "    X = mnist[\"data\"]\n",
    "    y = (mnist[\"target\"] == 5)\n",
    "    \n",
    "    # Instantiate Base Classifier\n",
    "    # ---------------------------\n",
    "    svm_clf = LinearSVC(C=1, loss=\"hinge\")\n",
    "    sgd_clf = SGDClassifier(random_state=0, max_iter=500, tol=1e-6)  \n",
    "\n",
    "    # Create k folds\n",
    "    # --------------\n",
    "    skfolds = StratifiedKFold(n_splits=10, random_state=0)\n",
    "    \n",
    "    svm_cross_val = partial(cross_val, clf=svm_clf)\n",
    "    sgd_cross_val = partial(cross_val, clf=sgd_clf)\n",
    "    \n",
    "    with mp.Pool(num_cpu) as p:\n",
    "        result_svm = p.starmap_async(svm_cross_val, skfolds.split(X, y)).get()\n",
    "        result_sgd = p.starmap_async(sgd_cross_val, skfolds.split(X, y)).get()\n",
    "        "
   ]
  },
  {
   "cell_type": "code",
   "execution_count": 118,
   "metadata": {},
   "outputs": [
    {
     "data": {
      "image/png": "[encoded data removed]",
      "text/plain": [
       "<Figure size 432x288 with 1 Axes>"
      ]
     },
     "metadata": {
      "needs_background": "light"
     },
     "output_type": "display_data"
    }
   ],
   "source": [
    "%matplotlib inline\n",
    "\n",
    "import numpy as np\n",
    "import matplotlib.pyplot as plt\n",
    "\n",
    "# Setup Matplotlib\n",
    "# ----------------\n",
    "\n",
    "# Font sizes\n",
    "# ----------\n",
    "SMALL_SIZE = 16\n",
    "MEDIUM_SIZE = 20\n",
    "BIGGER_SIZE = 36\n",
    "plt.rc('font', size=SMALL_SIZE)          # controls default text sizes\n",
    "plt.rc('axes', titlesize=SMALL_SIZE)     # fontsize of the axes title\n",
    "plt.rc('axes', labelsize=MEDIUM_SIZE)    # fontsize of the x and y labels\n",
    "plt.rc('xtick', labelsize=SMALL_SIZE)    # fontsize of the tick labels\n",
    "plt.rc('ytick', labelsize=SMALL_SIZE)    # fontsize of the tick labels\n",
    "plt.rc('legend', fontsize=SMALL_SIZE)    # legend fontsize\n",
    "plt.rc('figure', titlesize=BIGGER_SIZE)  # fontsize of the figure title\n",
    "\n",
    "\n",
    "plt.figure(figsize=(6,4))\n",
    "plt.boxplot([result_svm, result_sgd], labels=['Linear SVM', 'Stochastic GD'])\n",
    "plt.ylabel('Recall')\n",
    "plt.show()"
   ]
  }
 ],
 "metadata": {
  "kernelspec": {
   "display_name": "Python 3",
   "language": "python",
   "name": "python3"
  },
  "language_info": {
   "codemirror_mode": {
    "name": "ipython",
    "version": 3
   },
   "file_extension": ".py",
   "mimetype": "text/x-python",
   "name": "python",
   "nbconvert_exporter": "python",
   "pygments_lexer": "ipython3",
   "version": "3.6.5"
  }
 },
 "nbformat": 4,
 "nbformat_minor": 2
}
